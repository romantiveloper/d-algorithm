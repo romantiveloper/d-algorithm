{
 "cells": [
  {
   "cell_type": "code",
   "execution_count": 15,
   "metadata": {},
   "outputs": [],
   "source": [
    "from collections import deque"
   ]
  },
  {
   "cell_type": "code",
   "execution_count": 52,
   "metadata": {},
   "outputs": [],
   "source": [
    "N,M = map(int,input().split())\n",
    "dict = {}\n",
    "\n",
    "for i in range(M): \n",
    "    m,k = map(int,input().split())\n",
    "    if m not in dict:\n",
    "        dict[m] = [k] \n",
    "    else :\n",
    "        dict[m].append(k)\n",
    "    \n",
    "    if k not in dict:\n",
    "        dict[k] = [m]\n",
    "    else:\n",
    "        dict[k].append(m)"
   ]
  },
  {
   "cell_type": "code",
   "execution_count": 67,
   "metadata": {},
   "outputs": [
    {
     "data": {
      "text/plain": [
       "{0: [1, 3],\n",
       " 1: [0, 3, 2, 5, 6],\n",
       " 3: [0, 1, 2, 4],\n",
       " 2: [1, 3, 5, 4],\n",
       " 5: [1, 2],\n",
       " 6: [1, 4],\n",
       " 4: [2, 3, 6]}"
      ]
     },
     "execution_count": 67,
     "metadata": {},
     "output_type": "execute_result"
    }
   ],
   "source": [
    "dict"
   ]
  },
  {
   "cell_type": "code",
   "execution_count": 1,
   "metadata": {},
   "outputs": [],
   "source": [
    "from collections import defaultdict\n",
    "N,M = map(int,input().split())\n",
    "graph = defaultdict(list)\n",
    "\n",
    "for i in range(M): \n",
    "    m,k = map(int,input().split())\n",
    "    graph[m].append(k)\n",
    "    graph[k].append(m)"
   ]
  },
  {
   "cell_type": "code",
   "execution_count": 2,
   "metadata": {},
   "outputs": [
    {
     "data": {
      "text/plain": [
       "defaultdict(list,\n",
       "            {0: [1, 3],\n",
       "             1: [0, 3, 2, 5, 6],\n",
       "             3: [0, 1, 2, 4],\n",
       "             2: [1, 3, 5, 4],\n",
       "             5: [1, 2],\n",
       "             6: [1, 4],\n",
       "             4: [2, 3, 6]})"
      ]
     },
     "execution_count": 2,
     "metadata": {},
     "output_type": "execute_result"
    }
   ],
   "source": [
    "graph"
   ]
  }
 ],
 "metadata": {
  "kernelspec": {
   "display_name": "base",
   "language": "python",
   "name": "python3"
  },
  "language_info": {
   "codemirror_mode": {
    "name": "ipython",
    "version": 3
   },
   "file_extension": ".py",
   "mimetype": "text/x-python",
   "name": "python",
   "nbconvert_exporter": "python",
   "pygments_lexer": "ipython3",
   "version": "3.9.13"
  },
  "orig_nbformat": 4
 },
 "nbformat": 4,
 "nbformat_minor": 2
}
