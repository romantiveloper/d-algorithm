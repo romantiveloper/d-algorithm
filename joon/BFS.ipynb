{
 "cells": [
  {
   "cell_type": "code",
   "execution_count": 15,
   "metadata": {},
   "outputs": [],
   "source": [
    "from collections import deque"
   ]
  },
  {
   "cell_type": "code",
   "execution_count": 52,
   "metadata": {},
   "outputs": [],
   "source": [
    "N,M = map(int,input().split())\n",
    "dict = {}\n",
    "\n",
    "for i in range(M): \n",
    "    m,k = map(int,input().split())\n",
    "    if m not in dict:\n",
    "        dict[m] = [k] \n",
    "    else :\n",
    "        dict[m].append(k)\n",
    "    \n",
    "    if k not in dict:\n",
    "        dict[k] = [m]\n",
    "    else:\n",
    "        dict[k].append(m)"
   ]
  },
  {
   "cell_type": "code",
   "execution_count": 67,
   "metadata": {},
   "outputs": [
    {
     "data": {
      "text/plain": [
       "{0: [1, 3],\n",
       " 1: [0, 3, 2, 5, 6],\n",
       " 3: [0, 1, 2, 4],\n",
       " 2: [1, 3, 5, 4],\n",
       " 5: [1, 2],\n",
       " 6: [1, 4],\n",
       " 4: [2, 3, 6]}"
      ]
     },
     "execution_count": 67,
     "metadata": {},
     "output_type": "execute_result"
    }
   ],
   "source": [
    "dict"
   ]
  },
  {
   "cell_type": "code",
   "execution_count": 1,
   "metadata": {},
   "outputs": [],
   "source": [
    "from collections import defaultdict\n",
    "N,M = map(int,input().split())\n",
    "graph = defaultdict(list)\n",
    "\n",
    "for i in range(M): \n",
    "    m,k = map(int,input().split())\n",
    "    graph[m].append(k)\n",
    "    graph[k].append(m)"
   ]
  },
  {
   "cell_type": "code",
   "execution_count": 2,
   "metadata": {},
   "outputs": [
    {
     "data": {
      "text/plain": [
       "defaultdict(list,\n",
       "            {0: [1, 3],\n",
       "             1: [0, 3, 2, 5, 6],\n",
       "             3: [0, 1, 2, 4],\n",
       "             2: [1, 3, 5, 4],\n",
       "             5: [1, 2],\n",
       "             6: [1, 4],\n",
       "             4: [2, 3, 6]})"
      ]
     },
     "execution_count": 2,
     "metadata": {},
     "output_type": "execute_result"
    }
   ],
   "source": [
    "graph"
   ]
  },
  {
   "cell_type": "code",
   "execution_count": null,
   "metadata": {},
   "outputs": [],
   "source": [
    "q = [(0,0)] # 지금 위치 = 0, 거리 = 0\n",
    "[(1,1),(2,1),(4,1),(3,2)] # (위치,거리) 여기서 pop\n",
    "# 0번재 index == 3 : 1번 index를 출력하라"
   ]
  },
  {
   "cell_type": "code",
   "execution_count": null,
   "metadata": {},
   "outputs": [],
   "source": [
    "from collections import deque\n",
    "# start --> target 최단 거리\n",
    "def bfs(start,target,graph):\n",
    "    q = deque([start,0])  # start위치에서 거리 =0 이라는 뜻\n",
    "    visited = [False]*len(graph) # 중복체크 True이면 방문을 했다.\n",
    "    visited[start] = True\n",
    "    \n",
    "    while q:\n",
    "        cur,dist = q.popleft()\n",
    "        \n",
    "        if cur == target:\n",
    "            return dist \n",
    "        \n",
    "        for nxt in graph[cur]:\n",
    "            if not visited[nxt]:\n",
    "                q.append(nxt,dist+1)\n",
    "                visited[nxt] = True\n",
    "    return -1"
   ]
  },
  {
   "cell_type": "code",
   "execution_count": 1,
   "metadata": {},
   "outputs": [],
   "source": [
    "from collections import deque\n",
    "\n",
    "def solution(maps):\n",
    "    m = len(maps[0])\n",
    "    n = len(maps)\n",
    "\n",
    "    q = deque([(0,0,0)])\n",
    "    visited = [[False]*m for _ in range(n)]\n",
    "    visited[0][0] = True\n",
    "\n",
    "    dx = [1,-1,0,0]\n",
    "    dy = [0,0,1,-1]\n",
    "\n",
    "    while q:\n",
    "        x,y,dist = q.popleft()\n",
    "\n",
    "        if (x,y) == (n-1,m-1):\n",
    "            return dist\n",
    "\n",
    "        for i in range(4):\n",
    "            nx = x+dx[i]\n",
    "            ny = y+dy[i]\n",
    "\n",
    "            if not visited[nx][ny] and 0<=nx<n and 0<=ny<m and maps[nx][ny]:\n",
    "                q.append((nx,ny,dist+1))\n",
    "                visited[nx][ny] = True\n",
    "    return -1\n"
   ]
  }
 ],
 "metadata": {
  "kernelspec": {
   "display_name": "base",
   "language": "python",
   "name": "python3"
  },
  "language_info": {
   "codemirror_mode": {
    "name": "ipython",
    "version": 3
   },
   "file_extension": ".py",
   "mimetype": "text/x-python",
   "name": "python",
   "nbconvert_exporter": "python",
   "pygments_lexer": "ipython3",
   "version": "3.9.13"
  },
  "orig_nbformat": 4
 },
 "nbformat": 4,
 "nbformat_minor": 2
}
